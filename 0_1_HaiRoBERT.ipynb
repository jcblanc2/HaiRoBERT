{
  "cells": [
    {
      "cell_type": "code",
      "execution_count": null,
      "metadata": {
        "id": "9NOhdFaCWdK0"
      },
      "outputs": [],
      "source": [
        "!pip install transformers datasets\n",
        "!sudo apt-get install git-lfs\n",
        "!pip install apache_beam mwparserfromhell\n",
        "!pip install creolenltk\n",
        "!pip install accelerate -U"
      ]
    },
    {
      "cell_type": "code",
      "execution_count": 60,
      "metadata": {
        "id": "7AnDSsFx8kF4"
      },
      "outputs": [],
      "source": [
        "from huggingface_hub import notebook_login\n",
        "from datasets import concatenate_datasets, load_dataset, Dataset\n",
        "from google.colab import drive\n",
        "from huggingface_hub import HfApi\n",
        "import torch\n",
        "import re\n",
        "from bs4 import BeautifulSoup\n",
        "from creolenltk.contraction_expansion import ContractionToExpansion\n",
        "from tokenizers import ByteLevelBPETokenizer\n",
        "import os\n",
        "from transformers import RobertaConfig, RobertaTokenizer, RobertaForMaskedLM, LineByLineTextDataset, DataCollatorForLanguageModeling, Trainer, TrainingArguments\n",
        "import matplotlib.pyplot as plt"
      ]
    },
    {
      "cell_type": "code",
      "execution_count": null,
      "metadata": {
        "id": "MQz4XuwUC-sM"
      },
      "outputs": [],
      "source": [
        "notebook_login()"
      ]
    },
    {
      "cell_type": "code",
      "execution_count": 4,
      "metadata": {
        "id": "ylwHKOqUSLop"
      },
      "outputs": [],
      "source": [
        "device = torch.device('cuda' if torch.cuda.is_available() else 'cpu')"
      ]
    },
    {
      "cell_type": "markdown",
      "metadata": {
        "id": "OZVw6qkcY2VF"
      },
      "source": [
        "## 1. Prepare the dataset"
      ]
    },
    {
      "cell_type": "markdown",
      "metadata": {
        "id": "EregLUwLbrFI"
      },
      "source": [
        "### Load the datasets"
      ]
    },
    {
      "cell_type": "code",
      "execution_count": 5,
      "metadata": {
        "id": "BLVXlyTYBVF8"
      },
      "outputs": [],
      "source": [
        "# Load the c4 dataset\n",
        "# c4 = load_dataset(\"allenai/c4\", \"ht\", split=\"train\")\n",
        "# c4 = c4.remove_columns([col for col in c4.column_names if col != \"text\"])\n",
        "# c4"
      ]
    },
    {
      "cell_type": "code",
      "execution_count": 6,
      "metadata": {
        "id": "y7SO1yc9CBRj"
      },
      "outputs": [],
      "source": [
        "# Load the wikimedia dataset\n",
        "# wiki = load_dataset(\"wikimedia/wikipedia\", \"20231101.ht\", split=\"train\")\n",
        "# wiki = wiki.remove_columns([col for col in wiki.column_names if col != \"text\"])\n",
        "# wiki"
      ]
    },
    {
      "cell_type": "code",
      "execution_count": 25,
      "metadata": {
        "colab": {
          "base_uri": "https://localhost:8080/"
        },
        "id": "OPWuTCKK1jDN",
        "outputId": "13018bb5-0212-47c9-d8fa-07c02adf8035"
      },
      "outputs": [
        {
          "output_type": "stream",
          "name": "stdout",
          "text": [
            "Mounted at /content/gdrive/\n"
          ]
        }
      ],
      "source": [
        "# Load different data\n",
        "drive.mount('/content/gdrive/', force_remount=True)\n",
        "\n",
        "with open(\"gdrive/MyDrive/1.0 HaiRoBERT/data/data.txt\", \"r\") as f:\n",
        "    data = [re.sub(r'\\s+([.,?!])', r'\\1', line.rstrip('\\n')) for line in f if line.strip()]"
      ]
    },
    {
      "cell_type": "code",
      "execution_count": 26,
      "metadata": {
        "colab": {
          "base_uri": "https://localhost:8080/"
        },
        "id": "Ip1gCF1V1sIv",
        "outputId": "52232902-2f34-4e4f-8e05-dec0bd6076b1"
      },
      "outputs": [
        {
          "output_type": "execute_result",
          "data": {
            "text/plain": [
              "Dataset({\n",
              "    features: ['text'],\n",
              "    num_rows: 181395\n",
              "})"
            ]
          },
          "metadata": {},
          "execution_count": 26
        }
      ],
      "source": [
        "# Create a dataset\n",
        "raw_datasets = Dataset.from_dict({\"text\": data})\n",
        "raw_datasets"
      ]
    },
    {
      "cell_type": "code",
      "execution_count": 27,
      "metadata": {
        "id": "BHxdq0k82MVJ"
      },
      "outputs": [],
      "source": [
        "# Concatenate the datasets\n",
        "# raw_datasets = concatenate_datasets([wiki, custom_dataset])\n",
        "# raw_datasets"
      ]
    },
    {
      "cell_type": "markdown",
      "metadata": {
        "id": "TvAKjm353yoI"
      },
      "source": [
        "### Preprocessing"
      ]
    },
    {
      "cell_type": "code",
      "execution_count": 28,
      "metadata": {
        "id": "dgp-TjDWbp6I"
      },
      "outputs": [],
      "source": [
        "def preprocess_text(example):\n",
        "    text = example['text']\n",
        "\n",
        "    # Remove HTML tags\n",
        "    soup = BeautifulSoup(text, 'html.parser')\n",
        "    text = re.sub(r'<.*?>', '', soup.get_text())\n",
        "\n",
        "    # Remove non-alphabetic characters\n",
        "    cleaned_text = re.sub(r'[^\\w\\s,.!? ]+', ' ', text)\n",
        "\n",
        "    # Remove extra whitespaces\n",
        "    cleaned_text = re.sub(' +', ' ', cleaned_text)\n",
        "\n",
        "    # Expand contractions using CreoleNLTK\n",
        "    expander = ContractionToExpansion()\n",
        "    expanded_sentence = expander.expand_contractions(cleaned_text.strip())\n",
        "\n",
        "    example['text'] = expanded_sentence\n",
        "\n",
        "    return example"
      ]
    },
    {
      "cell_type": "code",
      "execution_count": 29,
      "metadata": {
        "colab": {
          "base_uri": "https://localhost:8080/",
          "height": 118,
          "referenced_widgets": [
            "cbf3f18e38a749ac812557e211f88a3a",
            "55ea87f24959465ca9e8a09a6bdc2eab",
            "83dfd487bbcd4bdeb554034ad1fa273e",
            "d90c534ca297476a83d3bd8fb490c4d6",
            "aac5e0b54b56459180eea37bacd48a8e",
            "95c329b2811e4ab99679d311cce0cdbc",
            "cee0c4ea18f746fe908c017bf1114c57",
            "6640a4fb449b48d69758ae07532e5313",
            "ec50af7951f94855ae6f99a382aea85d",
            "f8bcc3e41aee4325a0877ea1e0715be6",
            "ea1e6e4a462c4b52b96861867fa4749d"
          ]
        },
        "id": "LzWOfBpN9QmD",
        "outputId": "0f563d66-c1ff-4511-9a85-ec8ba8715506"
      },
      "outputs": [
        {
          "output_type": "display_data",
          "data": {
            "text/plain": [
              "Map:   0%|          | 0/181395 [00:00<?, ? examples/s]"
            ],
            "application/vnd.jupyter.widget-view+json": {
              "version_major": 2,
              "version_minor": 0,
              "model_id": "cbf3f18e38a749ac812557e211f88a3a"
            }
          },
          "metadata": {}
        },
        {
          "output_type": "execute_result",
          "data": {
            "text/plain": [
              "Dataset({\n",
              "    features: ['text'],\n",
              "    num_rows: 181395\n",
              "})"
            ]
          },
          "metadata": {},
          "execution_count": 29
        }
      ],
      "source": [
        "# Apply preprocessing to the raw_datasets\n",
        "preprocessed_datasets = raw_datasets.map(preprocess_text)\n",
        "preprocessed_datasets"
      ]
    },
    {
      "cell_type": "code",
      "execution_count": 30,
      "metadata": {
        "colab": {
          "base_uri": "https://localhost:8080/"
        },
        "id": "SLjii_NGra4A",
        "outputId": "affecef4-4207-4c57-a48d-251062a965ca"
      },
      "outputs": [
        {
          "output_type": "execute_result",
          "data": {
            "text/plain": [
              "['Bibliyotèk sou entènèt',\n",
              " 'Nou kontan ou vin sou sit sa a.',\n",
              " 'Se yon zouti ki pèmèt nou fè rechèch nan divès lang nan piblikasyon temwen jewova yo.',\n",
              " 'Pou ou kapab telechaje piblikasyon yo, ale sou lyen sa.',\n",
              " 'Lendi 11 mas.',\n",
              " 'Jezi te konnen sa ki nan lòm.',\n",
              " 'Jezi te byen aji ak toule 12 apot yo e li te montre li renmen yo.',\n",
              " 'Ki leson nou aprann?',\n",
              " 'Menmsi nou gen rezon pou nou fache akoz sa lòt moun fè, nou dwe fè atansyon ak fason nou reyaji lè yo fè erè.',\n",
              " 'Lè yon frè oswa yon sè fè yon bagay ki fè nou fache, nou kapab mande tèt nou poukisa sa li fè a kontrarye mwen konsa?']"
            ]
          },
          "metadata": {},
          "execution_count": 30
        }
      ],
      "source": [
        "preprocessed_datasets['text'][:10]"
      ]
    },
    {
      "cell_type": "code",
      "source": [
        "# Define the file path for the output file\n",
        "data_path = \"gdrive/MyDrive/1.0 HaiRoBERT/data/preprocessed_data.txt\"\n",
        "\n",
        "with open(data_path, \"w\") as output_file:\n",
        "    for example in preprocessed_datasets:\n",
        "        output_file.write(example['text'] + \"\\n\")\n"
      ],
      "metadata": {
        "id": "aWYTbS2mRVBH"
      },
      "execution_count": 31,
      "outputs": []
    },
    {
      "cell_type": "markdown",
      "metadata": {
        "id": "qwzRRhr1Y9sI"
      },
      "source": [
        "## 2. Train a Tokenizer"
      ]
    },
    {
      "cell_type": "code",
      "execution_count": 32,
      "metadata": {
        "id": "i64XnjyYdyMH"
      },
      "outputs": [],
      "source": [
        "# Initialize a tokenizer\n",
        "tokenizer = ByteLevelBPETokenizer()\n",
        "paths = [data_path]"
      ]
    },
    {
      "cell_type": "code",
      "execution_count": 33,
      "metadata": {
        "id": "qZ_brw4fZRQT"
      },
      "outputs": [],
      "source": [
        "# Customize training\n",
        "tokenizer.train(files=paths, vocab_size=52_000, min_frequency=2, special_tokens=[\n",
        "    \"<s>\",\n",
        "    \"<pad>\",\n",
        "    \"</s>\",\n",
        "    \"<unk>\",\n",
        "    \"<mask>\",\n",
        "])"
      ]
    },
    {
      "cell_type": "code",
      "execution_count": 34,
      "metadata": {
        "colab": {
          "base_uri": "https://localhost:8080/"
        },
        "id": "zul3ynrfWnII",
        "outputId": "84032b9a-a809-4b55-bffb-c5431bb488ed"
      },
      "outputs": [
        {
          "output_type": "execute_result",
          "data": {
            "text/plain": [
              "['gdrive/MyDrive/1.0 HaiRoBERT/model/vocab.json',\n",
              " 'gdrive/MyDrive/1.0 HaiRoBERT/model/merges.txt']"
            ]
          },
          "metadata": {},
          "execution_count": 34
        }
      ],
      "source": [
        "# Save files to disk\n",
        "token_dir = 'gdrive/MyDrive/1.0 HaiRoBERT/model'\n",
        "\n",
        "if not os.path.exists(token_dir):\n",
        " os.makedirs(token_dir)\n",
        "\n",
        "tokenizer.save_model(directory=token_dir)"
      ]
    },
    {
      "cell_type": "markdown",
      "metadata": {
        "id": "zJcf_kR-Zwvh"
      },
      "source": [
        "## 3. Preprocess the dataset"
      ]
    },
    {
      "cell_type": "code",
      "execution_count": 35,
      "metadata": {
        "id": "n390icITWm6t"
      },
      "outputs": [],
      "source": [
        "#Define the configuration of the Model\n",
        "config = RobertaConfig(\n",
        " vocab_size=52_000,\n",
        " max_position_embeddings=514,\n",
        " num_attention_heads=12,\n",
        " num_hidden_layers=12,\n",
        " type_vocab_size=1,\n",
        ")"
      ]
    },
    {
      "cell_type": "code",
      "execution_count": 36,
      "metadata": {
        "id": "Wfi1Ue17WmwX"
      },
      "outputs": [],
      "source": [
        "# Load trained tokenizer\n",
        "tokenizer = RobertaTokenizer.from_pretrained(token_dir, max_length=512)"
      ]
    },
    {
      "cell_type": "code",
      "execution_count": 37,
      "metadata": {
        "id": "1YwiKtR6bBJL"
      },
      "outputs": [],
      "source": [
        "# Initialize the Model\n",
        "model = RobertaForMaskedLM(config=config).cuda()"
      ]
    },
    {
      "cell_type": "code",
      "execution_count": 38,
      "metadata": {
        "id": "mcfugEfSbA_C",
        "colab": {
          "base_uri": "https://localhost:8080/"
        },
        "outputId": "7ea82080-358c-476a-fa7c-674d096be415"
      },
      "outputs": [
        {
          "output_type": "stream",
          "name": "stderr",
          "text": [
            "/usr/local/lib/python3.10/dist-packages/transformers/data/datasets/language_modeling.py:119: FutureWarning: This dataset will be removed from the library soon, preprocessing should be handled with the 🤗 Datasets library. You can have a look at this example script for pointers: https://github.com/huggingface/transformers/blob/main/examples/pytorch/language-modeling/run_mlm.py\n",
            "  warnings.warn(\n"
          ]
        }
      ],
      "source": [
        "# Build the Dataset\n",
        "dataset = LineByLineTextDataset(\n",
        " tokenizer=tokenizer,\n",
        " file_path=data_path,\n",
        " block_size=128,\n",
        ")"
      ]
    },
    {
      "cell_type": "code",
      "execution_count": 39,
      "metadata": {
        "id": "rQ0jXrZBbA1-"
      },
      "outputs": [],
      "source": [
        "# Define the Data Collator\n",
        "data_collator = DataCollatorForLanguageModeling(\n",
        " tokenizer=tokenizer, mlm=True, mlm_probability=0.15\n",
        ")"
      ]
    },
    {
      "cell_type": "markdown",
      "metadata": {
        "id": "HULwLdN9cb3b"
      },
      "source": [
        "## 4. Pre-train the model"
      ]
    },
    {
      "cell_type": "code",
      "execution_count": 40,
      "metadata": {
        "colab": {
          "base_uri": "https://localhost:8080/",
          "height": 715
        },
        "id": "VDg-NchMc0wG",
        "outputId": "97b3ccd9-0068-43c0-e511-30195e0a65b6"
      },
      "outputs": [
        {
          "output_type": "stream",
          "name": "stderr",
          "text": [
            "/usr/local/lib/python3.10/dist-packages/accelerate/accelerator.py:432: FutureWarning: Passing the following arguments to `Accelerator` is deprecated and will be removed in version 1.0 of Accelerate: dict_keys(['dispatch_batches', 'split_batches', 'even_batches', 'use_seedable_sampler']). Please pass an `accelerate.DataLoaderConfiguration` instead: \n",
            "dataloader_config = DataLoaderConfiguration(dispatch_batches=None, split_batches=False, even_batches=True, use_seedable_sampler=True)\n",
            "  warnings.warn(\n"
          ]
        },
        {
          "output_type": "display_data",
          "data": {
            "text/plain": [
              "<IPython.core.display.HTML object>"
            ],
            "text/html": [
              "\n",
              "    <div>\n",
              "      \n",
              "      <progress value='8505' max='8505' style='width:300px; height:20px; vertical-align: middle;'></progress>\n",
              "      [8505/8505 45:02, Epoch 3/3]\n",
              "    </div>\n",
              "    <table border=\"1\" class=\"dataframe\">\n",
              "  <thead>\n",
              " <tr style=\"text-align: left;\">\n",
              "      <th>Step</th>\n",
              "      <th>Training Loss</th>\n",
              "    </tr>\n",
              "  </thead>\n",
              "  <tbody>\n",
              "    <tr>\n",
              "      <td>500</td>\n",
              "      <td>5.742500</td>\n",
              "    </tr>\n",
              "    <tr>\n",
              "      <td>1000</td>\n",
              "      <td>4.683200</td>\n",
              "    </tr>\n",
              "    <tr>\n",
              "      <td>1500</td>\n",
              "      <td>4.231600</td>\n",
              "    </tr>\n",
              "    <tr>\n",
              "      <td>2000</td>\n",
              "      <td>3.849400</td>\n",
              "    </tr>\n",
              "    <tr>\n",
              "      <td>2500</td>\n",
              "      <td>3.636700</td>\n",
              "    </tr>\n",
              "    <tr>\n",
              "      <td>3000</td>\n",
              "      <td>3.455200</td>\n",
              "    </tr>\n",
              "    <tr>\n",
              "      <td>3500</td>\n",
              "      <td>3.324100</td>\n",
              "    </tr>\n",
              "    <tr>\n",
              "      <td>4000</td>\n",
              "      <td>3.218600</td>\n",
              "    </tr>\n",
              "    <tr>\n",
              "      <td>4500</td>\n",
              "      <td>3.135300</td>\n",
              "    </tr>\n",
              "    <tr>\n",
              "      <td>5000</td>\n",
              "      <td>3.072900</td>\n",
              "    </tr>\n",
              "    <tr>\n",
              "      <td>5500</td>\n",
              "      <td>3.007300</td>\n",
              "    </tr>\n",
              "    <tr>\n",
              "      <td>6000</td>\n",
              "      <td>2.955400</td>\n",
              "    </tr>\n",
              "    <tr>\n",
              "      <td>6500</td>\n",
              "      <td>2.909800</td>\n",
              "    </tr>\n",
              "    <tr>\n",
              "      <td>7000</td>\n",
              "      <td>2.870800</td>\n",
              "    </tr>\n",
              "    <tr>\n",
              "      <td>7500</td>\n",
              "      <td>2.837300</td>\n",
              "    </tr>\n",
              "    <tr>\n",
              "      <td>8000</td>\n",
              "      <td>2.784200</td>\n",
              "    </tr>\n",
              "    <tr>\n",
              "      <td>8500</td>\n",
              "      <td>2.808600</td>\n",
              "    </tr>\n",
              "  </tbody>\n",
              "</table><p>"
            ]
          },
          "metadata": {}
        },
        {
          "output_type": "execute_result",
          "data": {
            "text/plain": [
              "TrainOutput(global_step=8505, training_loss=3.4420818589001385, metrics={'train_runtime': 2703.1438, 'train_samples_per_second': 201.313, 'train_steps_per_second': 3.146, 'total_flos': 1.957944374946624e+16, 'train_loss': 3.4420818589001385, 'epoch': 3.0})"
            ]
          },
          "metadata": {},
          "execution_count": 40
        }
      ],
      "source": [
        "training_args = TrainingArguments(\n",
        " output_dir=token_dir,\n",
        " overwrite_output_dir=True,\n",
        " num_train_epochs=3,\n",
        " per_device_train_batch_size=64,\n",
        " save_steps=10_000,\n",
        " save_total_limit=2,\n",
        ")\n",
        "\n",
        "trainer = Trainer(\n",
        " model=model,\n",
        " args=training_args,\n",
        " data_collator=data_collator,\n",
        " train_dataset=dataset,\n",
        ")\n",
        "\n",
        "trainer.train()"
      ]
    },
    {
      "cell_type": "code",
      "execution_count": 41,
      "metadata": {
        "id": "spsKsTF-WjNt"
      },
      "outputs": [],
      "source": [
        "# Save the Model\n",
        "trainer.save_model(token_dir)"
      ]
    },
    {
      "cell_type": "markdown",
      "metadata": {
        "id": "FuNRKzsmcwIT"
      },
      "source": [
        "## Test The Model"
      ]
    },
    {
      "cell_type": "code",
      "execution_count": 42,
      "metadata": {
        "colab": {
          "base_uri": "https://localhost:8080/"
        },
        "id": "Tqu1_MnwcvcM",
        "outputId": "b2d97a20-2fa5-4952-f470-8a38d2331bef"
      },
      "outputs": [
        {
          "output_type": "execute_result",
          "data": {
            "text/plain": [
              "[{'score': 0.10670629888772964,\n",
              "  'token': 457,\n",
              "  'token_str': ' genyen',\n",
              "  'sequence': 'Bonjou koman ou genyen?'},\n",
              " {'score': 0.058612365275621414,\n",
              "  'token': 667,\n",
              "  'token_str': ' ye',\n",
              "  'sequence': 'Bonjou koman ou ye?'},\n",
              " {'score': 0.04818789288401604,\n",
              "  'token': 299,\n",
              "  'token_str': ' fè',\n",
              "  'sequence': 'Bonjou koman ou fè?'},\n",
              " {'score': 0.04273984953761101,\n",
              "  'token': 271,\n",
              "  'token_str': ' yo',\n",
              "  'sequence': 'Bonjou koman ou yo?'},\n",
              " {'score': 0.021677644923329353,\n",
              "  'token': 371,\n",
              "  'token_str': ' menm',\n",
              "  'sequence': 'Bonjou koman ou menm?'}]"
            ]
          },
          "metadata": {},
          "execution_count": 42
        }
      ],
      "source": [
        "from transformers import pipeline\n",
        "fill_mask = pipeline(\n",
        " 'fill-mask',\n",
        " model=token_dir,\n",
        " tokenizer=token_dir\n",
        ")\n",
        "fill_mask('Bonjou koman ou <mask>?')"
      ]
    },
    {
      "cell_type": "code",
      "execution_count": 43,
      "metadata": {
        "colab": {
          "base_uri": "https://localhost:8080/"
        },
        "id": "RN-sBYDwCE8i",
        "outputId": "d6386f39-4536-454c-aef3-93d04aea8a5f"
      },
      "outputs": [
        {
          "output_type": "execute_result",
          "data": {
            "text/plain": [
              "[{'score': 0.03347738832235336,\n",
              "  'token': 278,\n",
              "  'token_str': ' te',\n",
              "  'sequence': 'Li te anle a.'},\n",
              " {'score': 0.02739407680928707,\n",
              "  'token': 569,\n",
              "  'token_str': ' rele',\n",
              "  'sequence': 'Li rele anle a.'},\n",
              " {'score': 0.014769098721444607,\n",
              "  'token': 299,\n",
              "  'token_str': ' fè',\n",
              "  'sequence': 'Li fè anle a.'},\n",
              " {'score': 0.010849927552044392,\n",
              "  'token': 317,\n",
              "  'token_str': ' di',\n",
              "  'sequence': 'Li di anle a.'},\n",
              " {'score': 0.010487821884453297,\n",
              "  'token': 846,\n",
              "  'token_str': ' reponn',\n",
              "  'sequence': 'Li reponn anle a.'}]"
            ]
          },
          "metadata": {},
          "execution_count": 43
        }
      ],
      "source": [
        "fill_mask('Li <mask> anle a.')"
      ]
    },
    {
      "cell_type": "code",
      "execution_count": 59,
      "metadata": {
        "id": "1LpNHF9dC3uW",
        "colab": {
          "base_uri": "https://localhost:8080/",
          "height": 564
        },
        "outputId": "860656ab-0cc9-41ca-81ef-ac406de34225"
      },
      "outputs": [
        {
          "output_type": "display_data",
          "data": {
            "text/plain": [
              "<Figure size 1000x600 with 1 Axes>"
            ],
            "image/png": "[encoded data removed]"
          },
          "metadata": {}
        }
      ],
      "source": [
        "# Plot the training loss\n",
        "loss_results = trainer.state.log_history\n",
        "losses = [result[\"loss\"] for result in loss_results[:-1]]\n",
        "steps = [result[\"step\"] for result in loss_results[:-1]]\n",
        "\n",
        "plt.figure(figsize=(10, 6))\n",
        "plt.plot(steps, losses, marker='o', label='Training Loss')\n",
        "plt.xlabel('Epoch')\n",
        "plt.ylabel('Loss')\n",
        "plt.title('Training Loss Curve for HaiRoBERT')\n",
        "plt.grid(True)\n",
        "plt.legend()\n",
        "plt.show()"
      ]
    },
    {
      "source": [],
      "cell_type": "code",
      "metadata": {
        "id": "ewiTKCjnhp3v"
      },
      "execution_count": 47,
      "outputs": []
    },
    {
      "cell_type": "code",
      "execution_count": 43,
      "metadata": {
        "id": "W_WsGecQEIvN"
      },
      "outputs": [],
      "source": []
    }
  ],
  "metadata": {
    "accelerator": "GPU",
    "colab": {
      "gpuType": "V100",
      "machine_shape": "hm",
      "provenance": []
    },
    "kernelspec": {
      "display_name": "Python 3",
      "name": "python3"
    },
    "language_info": {
      "name": "python"
    },
    "widgets": {
      "application/vnd.jupyter.widget-state+json": {
        "cbf3f18e38a749ac812557e211f88a3a": {
          "model_module": "@jupyter-widgets/controls",
          "model_name": "HBoxModel",
          "model_module_version": "1.5.0",
          "state": {
            "_dom_classes": [],
            "_model_module": "@jupyter-widgets/controls",
            "_model_module_version": "1.5.0",
            "_model_name": "HBoxModel",
            "_view_count": null,
            "_view_module": "@jupyter-widgets/controls",
            "_view_module_version": "1.5.0",
            "_view_name": "HBoxView",
            "box_style": "",
            "children": [
              "IPY_MODEL_55ea87f24959465ca9e8a09a6bdc2eab",
              "IPY_MODEL_83dfd487bbcd4bdeb554034ad1fa273e",
              "IPY_MODEL_d90c534ca297476a83d3bd8fb490c4d6"
            ],
            "layout": "IPY_MODEL_aac5e0b54b56459180eea37bacd48a8e"
          }
        },
        "55ea87f24959465ca9e8a09a6bdc2eab": {
          "model_module": "@jupyter-widgets/controls",
          "model_name": "HTMLModel",
          "model_module_version": "1.5.0",
          "state": {
            "_dom_classes": [],
            "_model_module": "@jupyter-widgets/controls",
            "_model_module_version": "1.5.0",
            "_model_name": "HTMLModel",
            "_view_count": null,
            "_view_module": "@jupyter-widgets/controls",
            "_view_module_version": "1.5.0",
            "_view_name": "HTMLView",
            "description": "",
            "description_tooltip": null,
            "layout": "IPY_MODEL_95c329b2811e4ab99679d311cce0cdbc",
            "placeholder": "​",
            "style": "IPY_MODEL_cee0c4ea18f746fe908c017bf1114c57",
            "value": "Map: 100%"
          }
        },
        "83dfd487bbcd4bdeb554034ad1fa273e": {
          "model_module": "@jupyter-widgets/controls",
          "model_name": "FloatProgressModel",
          "model_module_version": "1.5.0",
          "state": {
            "_dom_classes": [],
            "_model_module": "@jupyter-widgets/controls",
            "_model_module_version": "1.5.0",
            "_model_name": "FloatProgressModel",
            "_view_count": null,
            "_view_module": "@jupyter-widgets/controls",
            "_view_module_version": "1.5.0",
            "_view_name": "ProgressView",
            "bar_style": "success",
            "description": "",
            "description_tooltip": null,
            "layout": "IPY_MODEL_6640a4fb449b48d69758ae07532e5313",
            "max": 181395,
            "min": 0,
            "orientation": "horizontal",
            "style": "IPY_MODEL_ec50af7951f94855ae6f99a382aea85d",
            "value": 181395
          }
        },
        "d90c534ca297476a83d3bd8fb490c4d6": {
          "model_module": "@jupyter-widgets/controls",
          "model_name": "HTMLModel",
          "model_module_version": "1.5.0",
          "state": {
            "_dom_classes": [],
            "_model_module": "@jupyter-widgets/controls",
            "_model_module_version": "1.5.0",
            "_model_name": "HTMLModel",
            "_view_count": null,
            "_view_module": "@jupyter-widgets/controls",
            "_view_module_version": "1.5.0",
            "_view_name": "HTMLView",
            "description": "",
            "description_tooltip": null,
            "layout": "IPY_MODEL_f8bcc3e41aee4325a0877ea1e0715be6",
            "placeholder": "​",
            "style": "IPY_MODEL_ea1e6e4a462c4b52b96861867fa4749d",
            "value": " 181395/181395 [00:46&lt;00:00, 4080.07 examples/s]"
          }
        },
        "aac5e0b54b56459180eea37bacd48a8e": {
          "model_module": "@jupyter-widgets/base",
          "model_name": "LayoutModel",
          "model_module_version": "1.2.0",
          "state": {
            "_model_module": "@jupyter-widgets/base",
            "_model_module_version": "1.2.0",
            "_model_name": "LayoutModel",
            "_view_count": null,
            "_view_module": "@jupyter-widgets/base",
            "_view_module_version": "1.2.0",
            "_view_name": "LayoutView",
            "align_content": null,
            "align_items": null,
            "align_self": null,
            "border": null,
            "bottom": null,
            "display": null,
            "flex": null,
            "flex_flow": null,
            "grid_area": null,
            "grid_auto_columns": null,
            "grid_auto_flow": null,
            "grid_auto_rows": null,
            "grid_column": null,
            "grid_gap": null,
            "grid_row": null,
            "grid_template_areas": null,
            "grid_template_columns": null,
            "grid_template_rows": null,
            "height": null,
            "justify_content": null,
            "justify_items": null,
            "left": null,
            "margin": null,
            "max_height": null,
            "max_width": null,
            "min_height": null,
            "min_width": null,
            "object_fit": null,
            "object_position": null,
            "order": null,
            "overflow": null,
            "overflow_x": null,
            "overflow_y": null,
            "padding": null,
            "right": null,
            "top": null,
            "visibility": null,
            "width": null
          }
        },
        "95c329b2811e4ab99679d311cce0cdbc": {
          "model_module": "@jupyter-widgets/base",
          "model_name": "LayoutModel",
          "model_module_version": "1.2.0",
          "state": {
            "_model_module": "@jupyter-widgets/base",
            "_model_module_version": "1.2.0",
            "_model_name": "LayoutModel",
            "_view_count": null,
            "_view_module": "@jupyter-widgets/base",
            "_view_module_version": "1.2.0",
            "_view_name": "LayoutView",
            "align_content": null,
            "align_items": null,
            "align_self": null,
            "border": null,
            "bottom": null,
            "display": null,
            "flex": null,
            "flex_flow": null,
            "grid_area": null,
            "grid_auto_columns": null,
            "grid_auto_flow": null,
            "grid_auto_rows": null,
            "grid_column": null,
            "grid_gap": null,
            "grid_row": null,
            "grid_template_areas": null,
            "grid_template_columns": null,
            "grid_template_rows": null,
            "height": null,
            "justify_content": null,
            "justify_items": null,
            "left": null,
            "margin": null,
            "max_height": null,
            "max_width": null,
            "min_height": null,
            "min_width": null,
            "object_fit": null,
            "object_position": null,
            "order": null,
            "overflow": null,
            "overflow_x": null,
            "overflow_y": null,
            "padding": null,
            "right": null,
            "top": null,
            "visibility": null,
            "width": null
          }
        },
        "cee0c4ea18f746fe908c017bf1114c57": {
          "model_module": "@jupyter-widgets/controls",
          "model_name": "DescriptionStyleModel",
          "model_module_version": "1.5.0",
          "state": {
            "_model_module": "@jupyter-widgets/controls",
            "_model_module_version": "1.5.0",
            "_model_name": "DescriptionStyleModel",
            "_view_count": null,
            "_view_module": "@jupyter-widgets/base",
            "_view_module_version": "1.2.0",
            "_view_name": "StyleView",
            "description_width": ""
          }
        },
        "6640a4fb449b48d69758ae07532e5313": {
          "model_module": "@jupyter-widgets/base",
          "model_name": "LayoutModel",
          "model_module_version": "1.2.0",
          "state": {
            "_model_module": "@jupyter-widgets/base",
            "_model_module_version": "1.2.0",
            "_model_name": "LayoutModel",
            "_view_count": null,
            "_view_module": "@jupyter-widgets/base",
            "_view_module_version": "1.2.0",
            "_view_name": "LayoutView",
            "align_content": null,
            "align_items": null,
            "align_self": null,
            "border": null,
            "bottom": null,
            "display": null,
            "flex": null,
            "flex_flow": null,
            "grid_area": null,
            "grid_auto_columns": null,
            "grid_auto_flow": null,
            "grid_auto_rows": null,
            "grid_column": null,
            "grid_gap": null,
            "grid_row": null,
            "grid_template_areas": null,
            "grid_template_columns": null,
            "grid_template_rows": null,
            "height": null,
            "justify_content": null,
            "justify_items": null,
            "left": null,
            "margin": null,
            "max_height": null,
            "max_width": null,
            "min_height": null,
            "min_width": null,
            "object_fit": null,
            "object_position": null,
            "order": null,
            "overflow": null,
            "overflow_x": null,
            "overflow_y": null,
            "padding": null,
            "right": null,
            "top": null,
            "visibility": null,
            "width": null
          }
        },
        "ec50af7951f94855ae6f99a382aea85d": {
          "model_module": "@jupyter-widgets/controls",
          "model_name": "ProgressStyleModel",
          "model_module_version": "1.5.0",
          "state": {
            "_model_module": "@jupyter-widgets/controls",
            "_model_module_version": "1.5.0",
            "_model_name": "ProgressStyleModel",
            "_view_count": null,
            "_view_module": "@jupyter-widgets/base",
            "_view_module_version": "1.2.0",
            "_view_name": "StyleView",
            "bar_color": null,
            "description_width": ""
          }
        },
        "f8bcc3e41aee4325a0877ea1e0715be6": {
          "model_module": "@jupyter-widgets/base",
          "model_name": "LayoutModel",
          "model_module_version": "1.2.0",
          "state": {
            "_model_module": "@jupyter-widgets/base",
            "_model_module_version": "1.2.0",
            "_model_name": "LayoutModel",
            "_view_count": null,
            "_view_module": "@jupyter-widgets/base",
            "_view_module_version": "1.2.0",
            "_view_name": "LayoutView",
            "align_content": null,
            "align_items": null,
            "align_self": null,
            "border": null,
            "bottom": null,
            "display": null,
            "flex": null,
            "flex_flow": null,
            "grid_area": null,
            "grid_auto_columns": null,
            "grid_auto_flow": null,
            "grid_auto_rows": null,
            "grid_column": null,
            "grid_gap": null,
            "grid_row": null,
            "grid_template_areas": null,
            "grid_template_columns": null,
            "grid_template_rows": null,
            "height": null,
            "justify_content": null,
            "justify_items": null,
            "left": null,
            "margin": null,
            "max_height": null,
            "max_width": null,
            "min_height": null,
            "min_width": null,
            "object_fit": null,
            "object_position": null,
            "order": null,
            "overflow": null,
            "overflow_x": null,
            "overflow_y": null,
            "padding": null,
            "right": null,
            "top": null,
            "visibility": null,
            "width": null
          }
        },
        "ea1e6e4a462c4b52b96861867fa4749d": {
          "model_module": "@jupyter-widgets/controls",
          "model_name": "DescriptionStyleModel",
          "model_module_version": "1.5.0",
          "state": {
            "_model_module": "@jupyter-widgets/controls",
            "_model_module_version": "1.5.0",
            "_model_name": "DescriptionStyleModel",
            "_view_count": null,
            "_view_module": "@jupyter-widgets/base",
            "_view_module_version": "1.2.0",
            "_view_name": "StyleView",
            "description_width": ""
          }
        }
      }
    }
  },
  "nbformat": 4,
  "nbformat_minor": 0
}